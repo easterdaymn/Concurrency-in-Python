{
 "cells": [
  {
   "cell_type": "markdown",
   "id": "88922d67-749a-4cd1-aaf7-27bf764d8b10",
   "metadata": {},
   "source": [
    "13.1"
   ]
  },
  {
   "cell_type": "code",
   "execution_count": 3,
   "id": "f0c97639-2355-4a4a-88d6-782898c29b02",
   "metadata": {},
   "outputs": [],
   "source": [
    "from datetime import date\n",
    "\n",
    "# Get the current date\n",
    "today = date.today()\n",
    "\n",
    "# Convert the date to a string\n",
    "today_string = today.strftime('%Y-%m-%d')\n",
    "\n",
    "# Write the string to the text file\n",
    "with open('today.txt', 'w') as file:\n",
    "    file.write(today_string)"
   ]
  },
  {
   "cell_type": "markdown",
   "id": "70b0d595-bc64-453c-9ace-6d2bf8c874ac",
   "metadata": {},
   "source": [
    "13.2"
   ]
  },
  {
   "cell_type": "code",
   "execution_count": 6,
   "id": "c684b701-964b-46a9-ab7c-1b7ca9a89150",
   "metadata": {},
   "outputs": [
    {
     "data": {
      "text/plain": [
       "'2024-07-09'"
      ]
     },
     "execution_count": 6,
     "metadata": {},
     "output_type": "execute_result"
    }
   ],
   "source": [
    "# Read the string from the text file\n",
    "with open('today.txt', 'r') as file:\n",
    "    today_string = file.read()\n",
    "\n",
    "# Display the string\n",
    "today_string\n"
   ]
  },
  {
   "cell_type": "markdown",
   "id": "a99a92ba-67db-4be4-a596-7d9a76191421",
   "metadata": {},
   "source": [
    "13.3"
   ]
  },
  {
   "cell_type": "code",
   "execution_count": 9,
   "id": "af23ef3e-3eb3-45ed-b150-4baf2a1e8b34",
   "metadata": {},
   "outputs": [
    {
     "data": {
      "text/plain": [
       "datetime.date(2024, 7, 9)"
      ]
     },
     "execution_count": 9,
     "metadata": {},
     "output_type": "execute_result"
    }
   ],
   "source": [
    "from datetime import datetime\n",
    "\n",
    "# Parse the date string into a datetime object\n",
    "parsed_date = datetime.strptime(today_string, '%Y-%m-%d').date()\n",
    "\n",
    "# Display the parsed date\n",
    "parsed_date"
   ]
  },
  {
   "cell_type": "markdown",
   "id": "b2a43af5-4cfa-4dca-a553-e197930b51fc",
   "metadata": {},
   "source": [
    "15.1"
   ]
  },
  {
   "cell_type": "code",
   "execution_count": 12,
   "id": "0bcec242-2b50-4039-a72c-b6a1e8d26f94",
   "metadata": {},
   "outputs": [
    {
     "name": "stdout",
     "output_type": "stream",
     "text": [
      "All processes have finished.\n"
     ]
    }
   ],
   "source": [
    "import multiprocessing\n",
    "import time\n",
    "import random\n",
    "from datetime import datetime\n",
    "\n",
    "# Function to be run in each process\n",
    "def process_task():\n",
    "    # Wait for a random number of seconds between 0 and 1\n",
    "    wait_time = random.uniform(0, 1)\n",
    "    time.sleep(wait_time)\n",
    "    \n",
    "    # Print the current time\n",
    "    current_time = datetime.now().strftime('%H:%M:%S.%f')\n",
    "    print(f\"Process ID: {multiprocessing.current_process().pid}, Wait Time: {wait_time:.3f} seconds, Current Time: {current_time}\")\n",
    "\n",
    "# Create a list to hold the processes\n",
    "processes = []\n",
    "\n",
    "# Create and start 3 separate processes\n",
    "for _ in range(3):\n",
    "    process = multiprocessing.Process(target=process_task)\n",
    "    processes.append(process)\n",
    "    process.start()\n",
    "\n",
    "# Wait for all processes to finish\n",
    "for process in processes:\n",
    "    process.join()\n",
    "\n",
    "print(\"All processes have finished.\")\n"
   ]
  }
 ],
 "metadata": {
  "kernelspec": {
   "display_name": "Python 3 (ipykernel)",
   "language": "python",
   "name": "python3"
  },
  "language_info": {
   "codemirror_mode": {
    "name": "ipython",
    "version": 3
   },
   "file_extension": ".py",
   "mimetype": "text/x-python",
   "name": "python",
   "nbconvert_exporter": "python",
   "pygments_lexer": "ipython3",
   "version": "3.11.7"
  }
 },
 "nbformat": 4,
 "nbformat_minor": 5
}
